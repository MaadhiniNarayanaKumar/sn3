{
 "cells": [
  {
   "cell_type": "code",
   "execution_count": 17,
   "metadata": {
    "colab": {
     "base_uri": "https://localhost:8080/"
    },
    "id": "CaTBZS0G_5iN",
    "outputId": "859c8f00-1db3-42f4-a1a5-f94a0edff364"
   },
   "outputs": [
    {
     "name": "stdout",
     "output_type": "stream",
     "text": [
      "Requirement already satisfied: requests in c:\\users\\maanu\\anaconda3\\lib\\site-packages (2.31.0)Note: you may need to restart the kernel to use updated packages.\n",
      "\n",
      "Requirement already satisfied: beautifulsoup4 in c:\\users\\maanu\\anaconda3\\lib\\site-packages (4.12.2)\n",
      "Requirement already satisfied: charset-normalizer<4,>=2 in c:\\users\\maanu\\anaconda3\\lib\\site-packages (from requests) (3.3.2)\n",
      "Requirement already satisfied: idna<4,>=2.5 in c:\\users\\maanu\\anaconda3\\lib\\site-packages (from requests) (3.4)\n",
      "Requirement already satisfied: urllib3<3,>=1.21.1 in c:\\users\\maanu\\anaconda3\\lib\\site-packages (from requests) (2.0.7)\n",
      "Requirement already satisfied: certifi>=2017.4.17 in c:\\users\\maanu\\anaconda3\\lib\\site-packages (from requests) (2023.11.17)\n",
      "Requirement already satisfied: soupsieve>1.2 in c:\\users\\maanu\\anaconda3\\lib\\site-packages (from beautifulsoup4) (2.4)\n"
     ]
    }
   ],
   "source": [
    "pip install requests beautifulsoup4"
   ]
  },
  {
   "cell_type": "code",
   "execution_count": 18,
   "metadata": {},
   "outputs": [
    {
     "name": "stderr",
     "output_type": "stream",
     "text": [
      "'apt' is not recognized as an internal or external command,\n",
      "operable program or batch file.\n",
      "'apt' is not recognized as an internal or external command,\n",
      "operable program or batch file.\n"
     ]
    },
    {
     "name": "stdout",
     "output_type": "stream",
     "text": [
      "Requirement already satisfied: selenium in c:\\users\\maanu\\anaconda3\\lib\\site-packages (4.17.2)\n",
      "Requirement already satisfied: urllib3[socks]<3,>=1.26 in c:\\users\\maanu\\anaconda3\\lib\\site-packages (from selenium) (2.0.7)\n",
      "Requirement already satisfied: trio~=0.17 in c:\\users\\maanu\\anaconda3\\lib\\site-packages (from selenium) (0.24.0)\n",
      "Requirement already satisfied: trio-websocket~=0.9 in c:\\users\\maanu\\anaconda3\\lib\\site-packages (from selenium) (0.11.1)\n",
      "Requirement already satisfied: certifi>=2021.10.8 in c:\\users\\maanu\\anaconda3\\lib\\site-packages (from selenium) (2023.11.17)\n",
      "Requirement already satisfied: typing_extensions>=4.9.0 in c:\\users\\maanu\\anaconda3\\lib\\site-packages (from selenium) (4.9.0)\n",
      "Requirement already satisfied: attrs>=20.1.0 in c:\\users\\maanu\\anaconda3\\lib\\site-packages (from trio~=0.17->selenium) (22.1.0)\n",
      "Requirement already satisfied: sortedcontainers in c:\\users\\maanu\\anaconda3\\lib\\site-packages (from trio~=0.17->selenium) (2.4.0)\n",
      "Requirement already satisfied: idna in c:\\users\\maanu\\anaconda3\\lib\\site-packages (from trio~=0.17->selenium) (3.4)\n",
      "Requirement already satisfied: outcome in c:\\users\\maanu\\anaconda3\\lib\\site-packages (from trio~=0.17->selenium) (1.3.0.post0)\n",
      "Requirement already satisfied: sniffio>=1.3.0 in c:\\users\\maanu\\anaconda3\\lib\\site-packages (from trio~=0.17->selenium) (1.3.0)\n",
      "Requirement already satisfied: cffi>=1.14 in c:\\users\\maanu\\anaconda3\\lib\\site-packages (from trio~=0.17->selenium) (1.15.1)\n",
      "Requirement already satisfied: wsproto>=0.14 in c:\\users\\maanu\\anaconda3\\lib\\site-packages (from trio-websocket~=0.9->selenium) (1.2.0)\n",
      "Requirement already satisfied: pysocks!=1.5.7,<2.0,>=1.5.6 in c:\\users\\maanu\\anaconda3\\lib\\site-packages (from urllib3[socks]<3,>=1.26->selenium) (1.7.1)\n",
      "Requirement already satisfied: pycparser in c:\\users\\maanu\\anaconda3\\lib\\site-packages (from cffi>=1.14->trio~=0.17->selenium) (2.21)\n",
      "Requirement already satisfied: h11<1,>=0.9.0 in c:\\users\\maanu\\anaconda3\\lib\\site-packages (from wsproto>=0.14->trio-websocket~=0.9->selenium) (0.14.0)\n"
     ]
    }
   ],
   "source": [
    "!apt update\n",
    "!apt install chromium-chromedriver\n",
    "!pip install selenium\n",
    "\n",
    "from selenium import webdriver\n",
    "options = webdriver.ChromeOptions()\n",
    "options.add_argument('--headless')\n",
    "options.add_argument('--no-sandbox')\n",
    "options.add_argument('--disable-dev-shm-usage')\n",
    "\n",
    "wd = webdriver.Chrome(options=options)"
   ]
  },
  {
   "cell_type": "code",
   "execution_count": 19,
   "metadata": {
    "id": "zyf3Cl5D_4Pm"
   },
   "outputs": [],
   "source": [
    "def topic(url):\n",
    "    import requests\n",
    "    from bs4 import BeautifulSoup\n",
    "    html_doc = requests.get(url)\n",
    "    soup = BeautifulSoup(html_doc.text,'html.parser')\n",
    "    return soup"
   ]
  },
  {
   "cell_type": "code",
   "execution_count": 20,
   "metadata": {},
   "outputs": [
    {
     "name": "stdout",
     "output_type": "stream",
     "text": [
      "['https://www.smartpakequine.com//pt/piper-trainers-coat-ii-by-smartpak-25776', 'https://www.smartpakequine.com//pt/piper-smartcore-short-sleeve--zip-sun-shirt-clearance-22938', 'https://www.smartpakequine.com//pt/piper-evolution-midrise-breeches-by-smartpak--full-seat--clearance-26150', 'https://www.smartpakequine.com//pt/piper-smartcore-long-sleeve--zip-sun-shirt-clearance-22246', 'https://www.smartpakequine.com//pt/piper-breast-cancer-awareness-extended-silicone-grip-tight-25770', 'https://www.smartpakequine.com//pt/hadley-highrise-breeches-by-smartpak--knee-patch-23067', 'https://www.smartpakequine.com//pt/ariat-facet-baselayer-23404', 'https://www.smartpakequine.com//pt/piper-midweight-tights-by-smartpak--full-seat-23432', 'https://www.smartpakequine.com//pt/hadley-curvy-fit-grip-breeches-by-smartpak-full-seat--clearance-26234', 'https://www.smartpakequine.com//pt/kerrits-girls-powerstretch-pocket-knee-patch-winter-tight--clearance-25829', 'https://www.smartpakequine.com//pt/kerrits-crescent-base-layer-top-25846', 'https://www.smartpakequine.com//pt/aa-platinum-motionlite-shadbelly-22504', 'https://www.smartpakequine.com//pt/rj-classics-harper-silicone-knee-patch-breech-22170', 'https://www.smartpakequine.com//pt/hadley-winter-tech-softshell-breeches-by-smartpak--full-seat-25702', 'https://www.smartpakequine.com//pt/pikeur-lugana-full-seat-breeches-7557', 'https://www.smartpakequine.com//pt/piper-knit-midrise-boot-cut-breeches-by-smartpak--full-seat-24552', 'https://www.smartpakequine.com//pt/piper-smartcore-airflow-racerback-tank-by-smartpak--clearance-26148', 'https://www.smartpakequine.com//pt/hadley-performance-show-coat-23061', 'https://www.smartpakequine.com//pt/piper-heavyweight-winter-tight-ii-by-smartpak--full-seat-25902', 'https://www.smartpakequine.com//pt/piper-midweight-tights-by-smartpak--knee-patch-23433', 'https://www.smartpakequine.com//pt/hadley-bling-breeches-by-smartpak-full-seat-24029', 'https://www.smartpakequine.com//pt/aa-mens-motionlite-show-coat-21365', 'https://www.smartpakequine.com//pt/lemieux-kenza-puffer-gilet--clearance-26511', 'https://www.smartpakequine.com//pt/hadley-waterproof-winter-insulated-jacket-by-smartpak-23434', 'https://www.smartpakequine.com//pt/piper-insulated-waterproof-winter-overpant-24388', 'https://www.smartpakequine.com//pt/kerrits-kids-performance-tight--clearance-20443', 'https://www.smartpakequine.com//pt/piper-classic-ii-lowrise-side-zip-breeches-by-smartpak--knee-patch-25141', 'https://www.smartpakequine.com//pt/tredstep-solo-honour-show-coat-21834', 'https://www.smartpakequine.com//pt/piper-knit-midrise-breeches-by-smartpak--knee-patch-24550', 'https://www.smartpakequine.com//pt/aa-platinum-motionlite-show-coat-17861', 'https://www.smartpakequine.com//pt/piper-smartcore-long-sleeve--zip-sun-shirt--limited-edition-25747', 'https://www.smartpakequine.com//pt/kerrits-always-cool-ice-fil-short-sleeve-25247', 'https://www.smartpakequine.com//pt/hadley-midrise-breeches-by-smartpak--full-seat--clearance-24377', 'https://www.smartpakequine.com//pt/piper-evolution-midrise-breeches-by-smartpak--full-seat-23428', 'https://www.smartpakequine.com//pt/ariat-artico-lightweight-show-coat-13868', 'https://www.smartpakequine.com//pt/piper-evolution-midrise-breeches-by-smartpak--knee-patch--clearance-26151']\n",
      "36\n"
     ]
    }
   ],
   "source": [
    "sales_rider_apparel_links = []\n",
    "j = topic(\"https://www.smartpakequine.com/sale--rider-apparel--699pc\")\n",
    "# print(j)\n",
    "for i in j.find_all(class_='product'):\n",
    "  sales_rider_apparel_links.append(\"https://www.smartpakequine.com/\"+i.find('a').get('href'))\n",
    "  #gift_for_riders_links\n",
    "\n",
    "\n",
    "\n",
    "print(sales_rider_apparel_links)\n",
    "\n",
    "print(len(sales_rider_apparel_links))"
   ]
  },
  {
   "cell_type": "code",
   "execution_count": 21,
   "metadata": {
    "colab": {
     "base_uri": "https://localhost:8080/"
    },
    "id": "NNQbNOF7LkSx",
    "outputId": "65c2f347-2399-4425-9fc1-3d7fde3d4249"
   },
   "outputs": [
    {
     "name": "stdout",
     "output_type": "stream",
     "text": [
      "36\n"
     ]
    }
   ],
   "source": [
    "sales_footwear_accessories_links = []\n",
    "j = topic(\"https://www.smartpakequine.com/sale--rider-footwear-and-accessories-768pc\")\n",
    "# print(j)\n",
    "for i in j.find_all(class_='product'):\n",
    "  sales_footwear_accessories_links.append(\"https://www.smartpakequine.com/\"+i.find('a').get('href'))\n",
    "  #gift_for_riders_links\n",
    "\n",
    "\n",
    "\n",
    "# print(gift_for_horses_links)\n",
    "\n",
    "print(len(sales_footwear_accessories_links))"
   ]
  },
  {
   "cell_type": "code",
   "execution_count": 22,
   "metadata": {
    "id": "x2Kskcpe5cKo"
   },
   "outputs": [
    {
     "name": "stdout",
     "output_type": "stream",
     "text": [
      "48\n"
     ]
    }
   ],
   "source": [
    "sales_horse_tack_equipement_links = []\n",
    "j = topic(\"https://www.smartpakequine.com/search/SearchByParameter?parameters=%7B%22Query%22%3A%22437%22%2C%22Type%22%3A%22category%22%2C%22Start%22%3A0%2C%22Size%22%3A200%2C%22Sort%22%3A1%2C%22Facets%22%3A%5B%5D%7D\")\n",
    "# print(j)\n",
    "for i in j.find_all(class_='product'):\n",
    "  sales_horse_tack_equipement_links.append(\"https://www.smartpakequine.com/\"+i.find('a').get('href'))\n",
    "  #gift_for_riders_links\n",
    "\n",
    "\n",
    "\n",
    "# print(gift_for_horses_links)\n",
    "\n",
    "print(len(sales_horse_tack_equipement_links))"
   ]
  },
  {
   "cell_type": "code",
   "execution_count": 23,
   "metadata": {
    "id": "x2Kskcpe5cKo"
   },
   "outputs": [
    {
     "name": "stdout",
     "output_type": "stream",
     "text": [
      "21\n"
     ]
    }
   ],
   "source": [
    "gift_for_horses_trainers_links = []\n",
    "j = topic(\"https://www.smartpakequine.com/sale--horse-tack-and-equipment-539pc\")\n",
    "# print(j)\n",
    "for i in j.find_all(class_='product'):\n",
    "  gift_for_horses_trainers_links.append(\"https://www.smartpakequine.com/\"+i.find('a').get('href'))\n",
    "  #gift_for_riders_links\n",
    "\n",
    "\n",
    "\n",
    "# print(gift_for_horses_links)\n",
    "\n",
    "print(len(gift_for_horses_trainers_links))"
   ]
  },
  {
   "cell_type": "code",
   "execution_count": 24,
   "metadata": {
    "id": "x2Kskcpe5cKo"
   },
   "outputs": [
    {
     "name": "stdout",
     "output_type": "stream",
     "text": [
      "4\n"
     ]
    }
   ],
   "source": [
    "sales_blankets_links = []\n",
    "j = topic(\"https://www.smartpakequine.com/sale--horse-blankets-and-fly-protective-gear-1303pc\")\n",
    "# print(j)\n",
    "for i in j.find_all(class_='product'):\n",
    "  sales_blankets_links.append(\"https://www.smartpakequine.com/\"+i.find('a').get('href'))\n",
    "  #gift_for_riders_links\n",
    "\n",
    "\n",
    "\n",
    "# print(gift_for_horses_links)\n",
    "\n",
    "print(len(sales_blankets_links))"
   ]
  },
  {
   "cell_type": "code",
   "execution_count": 25,
   "metadata": {},
   "outputs": [],
   "source": [
    "sales_horse_health = [\"https://www.smartpakequine.com/pt/limber-up-liniment-gel-leg-and-body-brace-26333\"]\n",
    "#only one gift card template available can be modified with amt in html only"
   ]
  },
  {
   "cell_type": "code",
   "execution_count": 26,
   "metadata": {
    "id": "x2Kskcpe5cKo"
   },
   "outputs": [
    {
     "name": "stdout",
     "output_type": "stream",
     "text": [
      "2\n"
     ]
    }
   ],
   "source": [
    "sales_barn = []\n",
    "j = topic(\"https://www.smartpakequine.com/sale--barn-supplies-and-insect-control-541pc\")\n",
    "# print(j)\n",
    "for i in j.find_all(class_='product'):\n",
    "  sales_barn.append(\"https://www.smartpakequine.com/\"+i.find('a').get('href'))\n",
    "  #gift_for_riders_links\n",
    "\n",
    "\n",
    "\n",
    "# print(gift_for_horses_links)\n",
    "\n",
    "print(len(sales_barn))"
   ]
  },
  {
   "cell_type": "code",
   "execution_count": 27,
   "metadata": {
    "id": "x2Kskcpe5cKo"
   },
   "outputs": [
    {
     "name": "stdout",
     "output_type": "stream",
     "text": [
      "3\n"
     ]
    }
   ],
   "source": [
    "sales_dog = []\n",
    "j = topic(\"https://www.smartpakequine.com/sale--dog-products-540pc\")\n",
    "# print(j)\n",
    "for i in j.find_all(class_='product'):\n",
    "  sales_dog.append(\"https://www.smartpakequine.com/\"+i.find('a').get('href'))\n",
    "  #gift_for_riders_links\n",
    "\n",
    "\n",
    "\n",
    "# print(gift_for_horses_links)\n",
    "\n",
    "print(len(sales_dog))"
   ]
  },
  {
   "cell_type": "code",
   "execution_count": 28,
   "metadata": {
    "id": "SSnTJEAB5cOY"
   },
   "outputs": [
    {
     "name": "stdout",
     "output_type": "stream",
     "text": [
      "151\n"
     ]
    }
   ],
   "source": [
    "product_sale=sales_dog+sales_barn+sales_horse_health+sales_blankets_links+gift_for_horses_trainers_links+sales_horse_tack_equipement_links+sales_footwear_accessories_links+sales_rider_apparel_links\n",
    "print(len(product_sale))"
   ]
  },
  {
   "cell_type": "code",
   "execution_count": 30,
   "metadata": {},
   "outputs": [],
   "source": [
    "from bs4 import BeautifulSoup\n",
    "import re\n",
    "import pandas as pd"
   ]
  },
  {
   "cell_type": "code",
   "execution_count": 13,
   "metadata": {},
   "outputs": [
    {
     "name": "stdout",
     "output_type": "stream",
     "text": [
      "597\n"
     ]
    }
   ],
   "source": [
    "product_gift=gift_for_riders_links+gift_for_horses_links+gift_for_kids_links+gift_for_horses_trainers_links+personalised_horse_gifts_links+gift_cretificates+gift_for_dogs_links+Treats_Toys_for_Horses_Gifts\n",
    "print(len(product_gift))"
   ]
  },
  {
   "cell_type": "code",
   "execution_count": null,
   "metadata": {
    "scrolled": true
   },
   "outputs": [
    {
     "name": "stdout",
     "output_type": "stream",
     "text": [
      "0\n",
      "SmartCanine™ Allergy Soft Chews\n",
      "1\n",
      "Weatherbeeta 300D Deluxe Reflective Dog Parka - Clearance!\n",
      "2\n",
      "WeatherBeeta ComFiTec Premier Free Deluxe Dog Parka - Clearance!\n",
      "3\n",
      "SmartPak Hay Bag - Clearance!\n",
      "4\n",
      "SmartPak Standard Hole Hay Net - Clearance!\n",
      "5\n"
     ]
    }
   ],
   "source": [
    "desc=[]\n",
    "name=[]\n",
    "rating=[]\n",
    "image=[]\n",
    "price=[]\n",
    "id=[]\n",
    "j=0\n",
    "for i in product_sale:\n",
    "    print(j)\n",
    "    wd.get(i)\n",
    "    html_content = wd.page_source\n",
    "    soup = BeautifulSoup(html_content, 'html.parser')\n",
    "    item_number = soup.find(id=\"productManufacturer\").text\n",
    "    item = re.findall(r'\\d+', item_number)\n",
    "    item_str = \"\".join(item)\n",
    "    id.append(item_str)\n",
    "        \n",
    "    #id\n",
    "    try:\n",
    "          des=soup.find(id=\"overview-section\",class_=\"content-section\").text.strip().replace(\"\\n\\n\",\"\").replace(\"   \",\"\").replace(\"\\n\",\" \")\n",
    "    except AttributeError:\n",
    "          des=\"\"\n",
    "    try:\n",
    "          package_options=soup.find(class_=\"packagingOptions\").text.strip().replace(\"\\n\\n\\n\\n\",\"\").replace(\"\\n\",\" \").replace(\"/\",\"\").replace(\"   \",\"\")\n",
    "    except AttributeError:\n",
    "          package_options=\"\"\n",
    "    try:\n",
    "          det=soup.find(class_=\"pc-bg pc-bg-alt\").text.strip().replace(\"\\n\\n\\n\",\"\").replace(\"\\n\",\" \").replace(\"   \",\"\")\n",
    "    except AttributeError:\n",
    "          det=\"\"\n",
    "\n",
    "    joined = \"\".join([package_options,des,det])\n",
    "    desc.append(joined)\n",
    "    #desc\n",
    "    try:\n",
    "        name.append(soup.find(class_=\"pc-info-title\").text.strip())\n",
    "    except AttributeError:\n",
    "        name.append(soup.find(class_=\"pageTitle\").text.strip())\n",
    "#name     \n",
    "    print(name[j])\n",
    "    try:\n",
    "        price.append(soup.find(class_=\"currentCost\").text)\n",
    "    except AttributeError as e:\n",
    "          try:\n",
    "                price.append(soup.find(attrs={'data-bind': 'text: current'}).text)\n",
    "          except AttributeError:\n",
    "                price.append(soup.find(attrs={'data-bind': 'text: cost'}).text)\n",
    "#price                \n",
    "    link=soup.find(id=\"image-control\").find(\"img\").get(\"src\")\n",
    "    image.append(\"https:\"+link)\n",
    "#image    \n",
    "    try:\n",
    "         rating.append(soup.find(itemprop=\"ratingValue\").text)\n",
    "    except AttributeError:\n",
    "         rating.append('0')\n",
    "            \n",
    "#rating  \n",
    "\n",
    "    #print(name[j])\n",
    "    j=j+1\n",
    "df_product_gifts = pd.DataFrame(list(zip(id,name,rating,price,desc,image,product_gift)),columns=['Id','Product Name','Rating','Price','Description','Image_URL','Product_link'])\n",
    "df_product_gifts.to_excel(\"products_sales.xlsx\", index = False)"
   ]
  },
  {
   "cell_type": "code",
   "execution_count": null,
   "metadata": {},
   "outputs": [],
   "source": []
  }
 ],
 "metadata": {
  "colab": {
   "provenance": [],
   "toc_visible": true
  },
  "kernelspec": {
   "display_name": "Python 3 (ipykernel)",
   "language": "python",
   "name": "python3"
  },
  "language_info": {
   "codemirror_mode": {
    "name": "ipython",
    "version": 3
   },
   "file_extension": ".py",
   "mimetype": "text/x-python",
   "name": "python",
   "nbconvert_exporter": "python",
   "pygments_lexer": "ipython3",
   "version": "3.11.5"
  }
 },
 "nbformat": 4,
 "nbformat_minor": 1
}
