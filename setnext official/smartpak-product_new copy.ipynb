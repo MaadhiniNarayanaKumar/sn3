{
 "cells": [
  {
   "cell_type": "code",
   "execution_count": 1,
   "metadata": {
    "colab": {
     "base_uri": "https://localhost:8080/"
    },
    "id": "CaTBZS0G_5iN",
    "outputId": "859c8f00-1db3-42f4-a1a5-f94a0edff364"
   },
   "outputs": [
    {
     "name": "stdout",
     "output_type": "stream",
     "text": [
      "Requirement already satisfied: requests in c:\\users\\maanu\\setnext official\\smarty\\.venv\\lib\\site-packages (2.31.0)\n",
      "Requirement already satisfied: beautifulsoup4 in c:\\users\\maanu\\setnext official\\smarty\\.venv\\lib\\site-packages (4.12.3)\n",
      "Requirement already satisfied: charset-normalizer<4,>=2 in c:\\users\\maanu\\setnext official\\smarty\\.venv\\lib\\site-packages (from requests) (3.3.2)\n",
      "Requirement already satisfied: idna<4,>=2.5 in c:\\users\\maanu\\setnext official\\smarty\\.venv\\lib\\site-packages (from requests) (3.6)\n",
      "Requirement already satisfied: urllib3<3,>=1.21.1 in c:\\users\\maanu\\setnext official\\smarty\\.venv\\lib\\site-packages (from requests) (2.2.1)\n",
      "Requirement already satisfied: certifi>=2017.4.17 in c:\\users\\maanu\\setnext official\\smarty\\.venv\\lib\\site-packages (from requests) (2024.2.2)\n",
      "Requirement already satisfied: soupsieve>1.2 in c:\\users\\maanu\\setnext official\\smarty\\.venv\\lib\\site-packages (from beautifulsoup4) (2.5)\n",
      "Note: you may need to restart the kernel to use updated packages.\n"
     ]
    },
    {
     "name": "stderr",
     "output_type": "stream",
     "text": [
      "\n",
      "[notice] A new release of pip is available: 23.2.1 -> 24.0\n",
      "[notice] To update, run: python.exe -m pip install --upgrade pip\n"
     ]
    }
   ],
   "source": [
    "pip install requests beautifulsoup4"
   ]
  },
  {
   "cell_type": "code",
   "execution_count": 2,
   "metadata": {},
   "outputs": [
    {
     "name": "stderr",
     "output_type": "stream",
     "text": [
      "'apt' is not recognized as an internal or external command,\n",
      "operable program or batch file.\n",
      "'apt' is not recognized as an internal or external command,\n",
      "operable program or batch file.\n"
     ]
    },
    {
     "name": "stdout",
     "output_type": "stream",
     "text": [
      "Requirement already satisfied: selenium in c:\\users\\maanu\\setnext official\\smarty\\.venv\\lib\\site-packages (4.18.1)\n",
      "Requirement already satisfied: urllib3[socks]<3,>=1.26 in c:\\users\\maanu\\setnext official\\smarty\\.venv\\lib\\site-packages (from selenium) (2.2.1)\n",
      "Requirement already satisfied: trio~=0.17 in c:\\users\\maanu\\setnext official\\smarty\\.venv\\lib\\site-packages (from selenium) (0.24.0)\n",
      "Requirement already satisfied: trio-websocket~=0.9 in c:\\users\\maanu\\setnext official\\smarty\\.venv\\lib\\site-packages (from selenium) (0.11.1)\n",
      "Requirement already satisfied: certifi>=2021.10.8 in c:\\users\\maanu\\setnext official\\smarty\\.venv\\lib\\site-packages (from selenium) (2024.2.2)\n",
      "Requirement already satisfied: typing_extensions>=4.9.0 in c:\\users\\maanu\\setnext official\\smarty\\.venv\\lib\\site-packages (from selenium) (4.9.0)\n",
      "Requirement already satisfied: attrs>=20.1.0 in c:\\users\\maanu\\setnext official\\smarty\\.venv\\lib\\site-packages (from trio~=0.17->selenium) (23.2.0)\n",
      "Requirement already satisfied: sortedcontainers in c:\\users\\maanu\\setnext official\\smarty\\.venv\\lib\\site-packages (from trio~=0.17->selenium) (2.4.0)\n",
      "Requirement already satisfied: idna in c:\\users\\maanu\\setnext official\\smarty\\.venv\\lib\\site-packages (from trio~=0.17->selenium) (3.6)\n",
      "Requirement already satisfied: outcome in c:\\users\\maanu\\setnext official\\smarty\\.venv\\lib\\site-packages (from trio~=0.17->selenium) (1.3.0.post0)\n",
      "Requirement already satisfied: sniffio>=1.3.0 in c:\\users\\maanu\\setnext official\\smarty\\.venv\\lib\\site-packages (from trio~=0.17->selenium) (1.3.0)\n",
      "Requirement already satisfied: cffi>=1.14 in c:\\users\\maanu\\setnext official\\smarty\\.venv\\lib\\site-packages (from trio~=0.17->selenium) (1.16.0)\n",
      "Requirement already satisfied: wsproto>=0.14 in c:\\users\\maanu\\setnext official\\smarty\\.venv\\lib\\site-packages (from trio-websocket~=0.9->selenium) (1.2.0)\n",
      "Requirement already satisfied: pysocks!=1.5.7,<2.0,>=1.5.6 in c:\\users\\maanu\\setnext official\\smarty\\.venv\\lib\\site-packages (from urllib3[socks]<3,>=1.26->selenium) (1.7.1)\n",
      "Requirement already satisfied: pycparser in c:\\users\\maanu\\setnext official\\smarty\\.venv\\lib\\site-packages (from cffi>=1.14->trio~=0.17->selenium) (2.21)\n",
      "Requirement already satisfied: h11<1,>=0.9.0 in c:\\users\\maanu\\setnext official\\smarty\\.venv\\lib\\site-packages (from wsproto>=0.14->trio-websocket~=0.9->selenium) (0.14.0)\n"
     ]
    },
    {
     "name": "stderr",
     "output_type": "stream",
     "text": [
      "\n",
      "[notice] A new release of pip is available: 23.2.1 -> 24.0\n",
      "[notice] To update, run: python.exe -m pip install --upgrade pip\n"
     ]
    }
   ],
   "source": [
    "!apt update\n",
    "!apt install chromium-chromedriver\n",
    "!pip install selenium\n",
    "\n",
    "from selenium import webdriver\n",
    "options = webdriver.ChromeOptions()\n",
    "options.add_argument('--headless')\n",
    "options.add_argument('--no-sandbox')\n",
    "options.add_argument('--disable-dev-shm-usage')\n",
    "\n",
    "wd = webdriver.Chrome(options=options)"
   ]
  },
  {
   "cell_type": "code",
   "execution_count": 3,
   "metadata": {
    "id": "zyf3Cl5D_4Pm"
   },
   "outputs": [],
   "source": [
    "def topic(url):\n",
    "    import requests\n",
    "    from bs4 import BeautifulSoup\n",
    "    html_doc = requests.get(url)\n",
    "    soup = BeautifulSoup(html_doc.text,'html.parser')\n",
    "    return soup"
   ]
  },
  {
   "cell_type": "code",
   "execution_count": 4,
   "metadata": {},
   "outputs": [],
   "source": [
    "New_Equine_Supplements=[]\n",
    "j = topic(\"https://www.smartpakequine.com/new-equine-supplements-421pc\")\n",
    "# print(j)\n",
    "for i in j.find_all(class_='product'):\n",
    "  New_Equine_Supplements.append(\"https://www.smartpakequine.com/\"+i.find('a').get('href'))\n",
    "\n",
    "New_Rider_Apparel=[]\n",
    "j = topic(\"https://www.smartpakequine.com/new-rider-apparel-695pc\")\n",
    "# print(j)\n",
    "for i in j.find_all(class_='product'):\n",
    "  New_Rider_Apparel.append(\"https://www.smartpakequine.com/\"+i.find('a').get('href'))\n",
    "\n",
    "New_Rider_Gear=[]\n",
    "j = topic(\"https://www.smartpakequine.com/new-rider-gear-764pc\")\n",
    "# print(j)\n",
    "for i in j.find_all(class_='product'):\n",
    "  New_Rider_Gear.append(\"https://www.smartpakequine.com/\"+i.find('a').get('href'))\n",
    "\n",
    "New_Horse_Tack=[]\n",
    "j = topic(\"https://www.smartpakequine.com/new-horse-tack-772pc\")\n",
    "# print(j)\n",
    "for i in j.find_all(class_='product'):\n",
    "  New_Horse_Tack.append(\"https://www.smartpakequine.com/\"+i.find('a').get('href'))\n",
    "\n",
    "New_Horse_Gear=[]\n",
    "j = topic(\"https://www.smartpakequine.com/new-horse-gear-763pc\")\n",
    "# print(j)\n",
    "for i in j.find_all(class_='product'):\n",
    "  New_Horse_Gear.append(\"https://www.smartpakequine.com/\"+i.find('a').get('href'))\n",
    "\n",
    "New_Barn_Supplies=[]\n",
    "j = topic(\"https://www.smartpakequine.com/new-barn-supplies-283pc\")\n",
    "# print(j)\n",
    "for i in j.find_all(class_='product'):\n",
    "  New_Barn_Supplies.append(\"https://www.smartpakequine.com/\"+i.find('a').get('href'))\n",
    "\n"
   ]
  },
  {
   "cell_type": "code",
   "execution_count": 5,
   "metadata": {},
   "outputs": [],
   "source": [
    "from bs4 import BeautifulSoup\n",
    "import re"
   ]
  },
  {
   "cell_type": "code",
   "execution_count": 41,
   "metadata": {},
   "outputs": [
    {
     "name": "stdout",
     "output_type": "stream",
     "text": [
      "597\n"
     ]
    }
   ],
   "source": [
    "# product_gift=gift_for_riders_links+gift_for_horses_links+gift_for_kids_links+gift_for_horses_trainers_links+personalised_horse_gifts_links+gift_cretificates+gift_for_dogs_links+Treats_Toys_for_Horses_Gifts\n",
    "# print(len(product_gift))"
   ]
  },
  {
   "cell_type": "code",
   "execution_count": 6,
   "metadata": {},
   "outputs": [
    {
     "name": "stdout",
     "output_type": "stream",
     "text": [
      "0\n",
      "1\n",
      "2\n",
      "3\n",
      "4\n",
      "5\n",
      "6\n",
      "7\n",
      "8\n",
      "9\n",
      "10\n",
      "11\n",
      "12\n",
      "13\n",
      "14\n",
      "15\n"
     ]
    }
   ],
   "source": [
    "desc=[]\n",
    "name=[]\n",
    "rating=[]\n",
    "image=[]\n",
    "price=[]\n",
    "id=[]\n",
    "j=0\n",
    "for i in New_Rider_Gear:\n",
    "    print(j)\n",
    "    j=j+1\n",
    "    wd.get(i)\n",
    "    html_content = wd.page_source\n",
    "    soup = BeautifulSoup(html_content, 'html.parser')\n",
    "    item_number = soup.find(id=\"productManufacturer\").text\n",
    "    item = re.findall(r'\\d+', item_number)\n",
    "    item_str = \"\".join(item)\n",
    "    id.append(item_str)\n",
    "        \n",
    "    #id\n",
    "    try:\n",
    "          des=soup.find(id=\"overview-section\",class_=\"content-section\").text.strip().replace(\"\\n\\n\",\"\").replace(\"   \",\"\").replace(\"\\n\",\" \")\n",
    "    except AttributeError:\n",
    "          des=\"\"\n",
    "    try:\n",
    "          package_options=soup.find(class_=\"packagingOptions\").text.strip().replace(\"\\n\\n\\n\\n\",\"\").replace(\"\\n\",\" \").replace(\"/\",\"\").replace(\"   \",\"\")\n",
    "    except AttributeError:\n",
    "          package_options=\"\"\n",
    "    try:\n",
    "          det=soup.find(class_=\"pc-bg pc-bg-alt\").text.strip().replace(\"\\n\\n\\n\",\"\").replace(\"\\n\",\" \").replace(\"   \",\"\")\n",
    "    except AttributeError:\n",
    "          det=\"\"\n",
    "\n",
    "    joined = \"\".join([package_options,des,det])\n",
    "    desc.append(joined)\n",
    "    #desc\n",
    "    try:\n",
    "        name.append(soup.find(class_=\"pc-info-title\").text.strip())\n",
    "    except AttributeError:\n",
    "        name.append(soup.find(class_=\"pageTitle\").text.strip())\n",
    "#name        \n",
    "    try:\n",
    "        price.append(soup.find(class_=\"currentCost\",attrs={'data-bind': 'text: costAfterAutoShip'}).text)\n",
    "    except AttributeError as e:\n",
    "          try:\n",
    "                price.append(soup.find(attrs={'data-bind': 'text: current'}).text)\n",
    "          except AttributeError:\n",
    "                price.append(soup.find(attrs={'data-bind': 'text: cost'}).text)\n",
    "#price                \n",
    "    link=soup.find(id=\"image-control\").find(\"img\").get(\"src\")\n",
    "    image.append(\"https:\"+link)\n",
    "#image    \n",
    "    try:\n",
    "         rating.append(soup.find(itemprop=\"ratingValue\").text)\n",
    "    except AttributeError:\n",
    "         rating.append('0')\n"
   ]
  },
  {
   "cell_type": "code",
   "execution_count": 7,
   "metadata": {},
   "outputs": [
    {
     "name": "stderr",
     "output_type": "stream",
     "text": [
      "C:\\Users\\maanu\\AppData\\Local\\Temp\\ipykernel_20296\\786441278.py:2: DeprecationWarning: \n",
      "Pyarrow will become a required dependency of pandas in the next major release of pandas (pandas 3.0),\n",
      "(to allow more performant data types, such as the Arrow string type, and better interoperability with other libraries)\n",
      "but was not found to be installed on your system.\n",
      "If this would cause problems for you,\n",
      "please provide us feedback at https://github.com/pandas-dev/pandas/issues/54466\n",
      "        \n",
      "  import pandas as pd\n"
     ]
    }
   ],
   "source": [
    "            \n",
    "#rating   \n",
    "import pandas as pd\n",
    "df_product_new = pd.DataFrame(list(zip(id,name,rating,price,desc,image,New_Rider_Gear)),columns=['id','product_name','rating','price','description','image_url','product_link'])\n",
    "df_product_new.to_csv(\"New_Rider_Gear.csv\", index = False)"
   ]
  },
  {
   "cell_type": "code",
   "execution_count": null,
   "metadata": {},
   "outputs": [],
   "source": []
  }
 ],
 "metadata": {
  "colab": {
   "provenance": [],
   "toc_visible": true
  },
  "kernelspec": {
   "display_name": "Python 3 (ipykernel)",
   "language": "python",
   "name": "python3"
  },
  "language_info": {
   "codemirror_mode": {
    "name": "ipython",
    "version": 3
   },
   "file_extension": ".py",
   "mimetype": "text/x-python",
   "name": "python",
   "nbconvert_exporter": "python",
   "pygments_lexer": "ipython3",
   "version": "3.11.5"
  }
 },
 "nbformat": 4,
 "nbformat_minor": 1
}
